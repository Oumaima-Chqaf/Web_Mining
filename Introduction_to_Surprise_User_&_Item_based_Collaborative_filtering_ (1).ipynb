{
  "cells": [
    {
      "cell_type": "markdown",
      "id": "e1875f21",
      "metadata": {
        "id": "e1875f21"
      },
      "source": [
        "Run the cell below if you are using Google Colab to mount your Google Drive in your Colab instance. Adjust the path to the files in your Google Drive as needed if it differs.\n",
        "\n",
        "If you do not use Google Colab, running the cell will simply do nothing, so do not worry about it."
      ]
    },
    {
      "cell_type": "code",
      "execution_count": 10,
      "id": "2ca5b247",
      "metadata": {
        "colab": {
          "base_uri": "https://localhost:8080/"
        },
        "id": "2ca5b247",
        "outputId": "c8ec0670-e1a0-44c7-f220-fa39eff565d1"
      },
      "outputs": [
        {
          "output_type": "stream",
          "name": "stdout",
          "text": [
            "Drive already mounted at /content/drive/; to attempt to forcibly remount, call drive.mount(\"/content/drive/\", force_remount=True).\n",
            "[Errno 2] No such file or directory: 'drive/My Drive/Colab Notebooks/01_Collaborative_Filtering'\n",
            "/content\n"
          ]
        }
      ],
      "source": [
        "try:\n",
        "    from google.colab import drive\n",
        "    drive.mount('/content/drive/')\n",
        "    %cd 'drive/My Drive/Colab Notebooks/01_Collaborative_Filtering'\n",
        "except ImportError as e:\n",
        "    pass"
      ]
    },
    {
      "cell_type": "markdown",
      "id": "b18ebf58",
      "metadata": {
        "id": "b18ebf58"
      },
      "source": [
        "# **Exercise 1: Recommender Systems - Collaborative Filtering**\n",
        "\n",
        "Collaborative filtering is a technique used in recommendation systems to predict a user's preference for a particular item based on the preferences of other similar users.\n",
        "\n",
        "The idea behind collaborative filtering is that if two users have similar preferences for a set of items, they are likely to have similar preferences for other items as well. Similarly, if two items have been rated highly by the same set of users, they are likely to be similar in some way and may be recommended to users who have shown an interest in one of the items.\n",
        "\n",
        "Collaborative filtering algorithms can be based on either user-based or item-based methods. User-based collaborative filtering recommends items to a user based on the preferences of other users who are similar to them, while item-based collaborative filtering recommends items that are similar to the items a user has previously liked or rated highly.\n",
        "\n",
        "![image.png](attachment:image.png)\n",
        "[Source: A collaborative filtering recommendation system with dynamic time decay](https://doi.org/10.1007/s11227-020-03266-2)"
      ]
    },
    {
      "cell_type": "markdown",
      "id": "869f2f67",
      "metadata": {
        "id": "869f2f67"
      },
      "source": [
        "# **The surprise library**\n",
        "\n",
        "[Surprise](https://surpriselib.com/) is a Python [scikit](https://projects.scipy.org/scikits.html) for building and analyzing recommender systems that deal with explicit rating data.\n",
        "\n",
        "The name SurPRISE (roughly :) ) stands for Simple Python RecommendatIon System Engine."
      ]
    },
    {
      "cell_type": "code",
      "execution_count": 11,
      "id": "bdd43bd5",
      "metadata": {
        "colab": {
          "base_uri": "https://localhost:8080/"
        },
        "id": "bdd43bd5",
        "outputId": "d85697da-8f47-41bf-d014-97af9effe176"
      },
      "outputs": [
        {
          "output_type": "stream",
          "name": "stdout",
          "text": [
            "/bin/bash: conda: command not found\n"
          ]
        }
      ],
      "source": [
        "# Install the surprise package\n",
        "!conda install -c conda-forge scikit-surprise"
      ]
    },
    {
      "cell_type": "markdown",
      "id": "ca532966",
      "metadata": {
        "id": "ca532966"
      },
      "source": [
        "**MovieLens**\n",
        "\n",
        "The dataset [**MovieLens-100k**](https://grouplens.org/datasets/movielens/) describes 5-star rating and free-text tagging activity from MovieLens, a movie recommendation service.\n",
        "It contains:\n",
        "- 100,836 ratings\n",
        "- 3,683 tag applications\n",
        "- 9,742 movies\n",
        "- 610 users\n",
        "\n",
        "These data were created between March 29, 1996 and September 24, 2018."
      ]
    },
    {
      "cell_type": "code",
      "source": [
        "pip install surprise"
      ],
      "metadata": {
        "colab": {
          "base_uri": "https://localhost:8080/"
        },
        "id": "Y94jZEKOYvXU",
        "outputId": "52cc6d47-4537-4c1e-d0ba-fca80875d872"
      },
      "id": "Y94jZEKOYvXU",
      "execution_count": 12,
      "outputs": [
        {
          "output_type": "stream",
          "name": "stdout",
          "text": [
            "Looking in indexes: https://pypi.org/simple, https://us-python.pkg.dev/colab-wheels/public/simple/\n",
            "Requirement already satisfied: surprise in /usr/local/lib/python3.10/dist-packages (0.1)\n",
            "Requirement already satisfied: scikit-surprise in /usr/local/lib/python3.10/dist-packages (from surprise) (1.1.3)\n",
            "Requirement already satisfied: joblib>=1.0.0 in /usr/local/lib/python3.10/dist-packages (from scikit-surprise->surprise) (1.2.0)\n",
            "Requirement already satisfied: numpy>=1.17.3 in /usr/local/lib/python3.10/dist-packages (from scikit-surprise->surprise) (1.22.4)\n",
            "Requirement already satisfied: scipy>=1.3.2 in /usr/local/lib/python3.10/dist-packages (from scikit-surprise->surprise) (1.10.1)\n"
          ]
        }
      ]
    },
    {
      "cell_type": "code",
      "execution_count": 13,
      "id": "a5f52c90",
      "metadata": {
        "id": "a5f52c90"
      },
      "outputs": [],
      "source": [
        "from surprise import Dataset\n",
        "\n",
        "# Load the movielens-100k dataset (download it if needed).\n",
        "data = Dataset.load_builtin('ml-100k')\n",
        "\n",
        "# Retrieve the trainset.\n",
        "trainset = data.build_full_trainset()"
      ]
    },
    {
      "cell_type": "markdown",
      "id": "403c0584",
      "metadata": {
        "id": "403c0584"
      },
      "source": [
        "![image-2.png](attachment:image-2.png)\n",
        "\n",
        "We are interested in the rating of user 196 for the movie \"Queen Margot\" with the id 302"
      ]
    },
    {
      "cell_type": "code",
      "execution_count": 14,
      "id": "a2e0d2fa",
      "metadata": {
        "id": "a2e0d2fa"
      },
      "outputs": [],
      "source": [
        "uid = str(196)  # raw user id (as in the ratings file). They are **strings**!\n",
        "iid = str(302)  # raw item(movie) id (as in the ratings file). They are **strings**!"
      ]
    },
    {
      "cell_type": "markdown",
      "id": "4997bc78",
      "metadata": {
        "id": "4997bc78"
      },
      "source": [
        "**[Similarity measure configuration](https://surprise.readthedocs.io/en/stable/prediction_algorithms.html#similarity-measures-configuration)**\n",
        "\n",
        "Many algorithms use a similarity measure to estimate a rating. The way they can be configured is done in a similar fashion as for baseline ratings: you just need to pass a `sim_options` argument at the creation of an algorithm. This argument is a dictionary with the following (all optional) keys:\n",
        "\n",
        " `name`: The name of the similarity to use, as defined in the similarities module. Options from the lecture: `pearson` and `cosine`. Default is `MSD`.\n",
        "\n",
        " `user_based`: Whether similarities will be computed between users or between items. This has a huge impact on the performance of a prediction algorithm. Default is True.\n",
        "\n",
        "  `min_support`: The minimum number of common items (when `user_based` is `True`) or minimum number of common users (when `user_based` is `False`) for the similarity not to be zero."
      ]
    },
    {
      "cell_type": "code",
      "execution_count": 15,
      "id": "9c25c013",
      "metadata": {
        "id": "9c25c013"
      },
      "outputs": [],
      "source": [
        "# Define a custom similarity function for the KNNBasic algorithm\n",
        "sim_options = {'name': 'pearson', 'user_based': True, 'min_support': 1}"
      ]
    },
    {
      "cell_type": "markdown",
      "id": "fbd8b280",
      "metadata": {
        "id": "fbd8b280"
      },
      "source": [
        "**[KNNBasic](https://surprise.readthedocs.io/en/stable/knn_inspired.html#surprise.prediction_algorithms.knns.KNNBasic)** is a basic collaborative filtering algorithm for the simple prediction.\n",
        "\n",
        "The prediction is set as:\n",
        "\n",
        "![image.png](attachment:image.png)\n",
        "\n",
        "or\n",
        "\n",
        "![image-2.png](attachment:image-2.png)\n",
        "\n",
        "depending on the `user_based` field of the `sim_options` parameter."
      ]
    },
    {
      "cell_type": "code",
      "execution_count": 17,
      "id": "94260c45",
      "metadata": {
        "colab": {
          "base_uri": "https://localhost:8080/"
        },
        "id": "94260c45",
        "outputId": "4524c7e7-d6a0-4c6f-9db9-2e40cd6050de"
      },
      "outputs": [
        {
          "output_type": "stream",
          "name": "stdout",
          "text": [
            "Computing the pearson similarity matrix...\n",
            "Done computing similarity matrix.\n",
            "user: 196        item: 302        r_ui = 4.00   est = 3.93   {'actual_k': 40, 'was_impossible': False}\n"
          ]
        }
      ],
      "source": [
        "\n",
        "from surprise import KNNBasic\n",
        "\n",
        "# User-based with Pearson correlation similarity and simple prediction\n",
        "sim_options = {'name': 'pearson'}\n",
        "k = 40\n",
        "\n",
        "# Build algorithm\n",
        "algo = KNNBasic(sim_options=sim_options, k=k)\n",
        "algo.fit(trainset)\n",
        "\n",
        "# get a prediction for specific users and items.\n",
        "pred = algo.predict(uid, iid, r_ui=4, verbose=True)\n"
      ]
    },
    {
      "cell_type": "markdown",
      "id": "776c3441",
      "metadata": {
        "id": "776c3441"
      },
      "source": [
        "[KNNWithMeans](https://surprise.readthedocs.io/en/stable/knn_inspired.html#surprise.prediction_algorithms.knns.KNNBasic) is a basic collaborative filtering algorithm, taking into account the mean ratings of each user.\n",
        "\n",
        "The prediction is set as:\n",
        "![image-3.png](attachment:image-3.png)\n",
        "\n",
        "or\n",
        "![image-4.png](attachment:image-4.png)\n",
        "\n",
        "depending on the `user_based` field of the `sim_options` parameter."
      ]
    },
    {
      "cell_type": "code",
      "execution_count": 18,
      "id": "f0e30334",
      "metadata": {
        "id": "f0e30334",
        "colab": {
          "base_uri": "https://localhost:8080/"
        },
        "outputId": "086a7f5f-7ca9-4e8f-c583-8df680a848cf"
      },
      "outputs": [
        {
          "output_type": "stream",
          "name": "stdout",
          "text": [
            "Computing the pearson similarity matrix...\n",
            "Done computing similarity matrix.\n",
            "user: 196        item: 302        r_ui = 4.00   est = 4.03   {'actual_k': 40, 'was_impossible': False}\n"
          ]
        }
      ],
      "source": [
        "from surprise import KNNWithMeans\n",
        "# User-based with Pearson correlation similarity and adjusted prediction considering the rating behaviour\n",
        "\n",
        "# Define a custom similarity function for the KNNBasic algorithm\n",
        "sim_options = {'name': 'pearson', 'user_based': True, 'min_support': 1}\n",
        "algo = KNNWithMeans(sim_options=sim_options)\n",
        "algo.fit(trainset)\n",
        "\n",
        "# get a prediction for specific users and items.\n",
        "pred = algo.predict(uid, iid, r_ui=4, verbose=True)"
      ]
    },
    {
      "cell_type": "code",
      "execution_count": 19,
      "id": "55aa5670",
      "metadata": {
        "id": "55aa5670",
        "colab": {
          "base_uri": "https://localhost:8080/"
        },
        "outputId": "92d13fc2-5f79-41b1-dd9e-ad81a9a35c66"
      },
      "outputs": [
        {
          "output_type": "stream",
          "name": "stdout",
          "text": [
            "Computing the cosine similarity matrix...\n",
            "Done computing similarity matrix.\n",
            "user: 196        item: 302        r_ui = 4.00   est = 3.61   {'actual_k': 39, 'was_impossible': False}\n"
          ]
        }
      ],
      "source": [
        "# Item-based with Cosine similarity and simple prediction\n",
        "\n",
        "# Define a custom similarity function for the KNNBasic algorithm\n",
        "sim_options = {'name': 'cosine', 'user_based': False, 'min_support': 1}\n",
        "algo = KNNBasic(sim_options=sim_options)\n",
        "algo.fit(trainset)\n",
        "\n",
        "# get a prediction for specific users and items.\n",
        "pred = algo.predict(uid, iid, r_ui=4, verbose=True)"
      ]
    },
    {
      "cell_type": "code",
      "execution_count": 20,
      "id": "f85f5d10",
      "metadata": {
        "id": "f85f5d10",
        "colab": {
          "base_uri": "https://localhost:8080/"
        },
        "outputId": "e36b6190-608f-4e2e-ebd8-f2db66447a88"
      },
      "outputs": [
        {
          "output_type": "stream",
          "name": "stdout",
          "text": [
            "Computing the pearson similarity matrix...\n",
            "Done computing similarity matrix.\n",
            "user: 196        item: 302        r_ui = 4.00   est = 3.24   {'actual_k': 30, 'was_impossible': False}\n"
          ]
        }
      ],
      "source": [
        "# Item-based with Pearson (Adjusted Cosine) similarity and simple prediction\n",
        "\n",
        "# Define a custom similarity function for the KNNBasic algorithm\n",
        "sim_options = {'name': 'pearson', 'user_based': False, 'min_support': 1}\n",
        "algo = KNNBasic(sim_options=sim_options)\n",
        "algo.fit(trainset)\n",
        "\n",
        "# get a prediction for specific users and items.\n",
        "pred = algo.predict(uid, iid, r_ui=4, verbose=True)"
      ]
    }
  ],
  "metadata": {
    "kernelspec": {
      "display_name": "Python 3 (ipykernel)",
      "language": "python",
      "name": "python3"
    },
    "language_info": {
      "codemirror_mode": {
        "name": "ipython",
        "version": 3
      },
      "file_extension": ".py",
      "mimetype": "text/x-python",
      "name": "python",
      "nbconvert_exporter": "python",
      "pygments_lexer": "ipython3",
      "version": "3.9.13"
    },
    "colab": {
      "provenance": []
    }
  },
  "nbformat": 4,
  "nbformat_minor": 5
}